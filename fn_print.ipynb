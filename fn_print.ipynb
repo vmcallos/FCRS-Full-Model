{
 "cells": [
  {
   "cell_type": "code",
   "execution_count": 4,
   "metadata": {
    "collapsed": true
   },
   "outputs": [],
   "source": [
    "def print_f (node1, node2, pipe):\n",
    "    print('{:18} {:>14} {:>14}'.format('', 'Inlet Node', 'Outlet Node'))\n",
    "    print('{:18} [{:^14}] [{:^14}]'.format('', node1.ID, node2.ID))\n",
    "    print('{:18} {:13.4f} {:14.4f}'.format('Pressure (Mpaa)', node1.p, node2.p))\n",
    "    print('{:18} {:13.4f} {:14.4f}'.format('Temperature (C)', node1.t, node2.t))\n",
    "    print('{:18} {:13.4f} {:14.4f}'.format('Mass Flow (kg/s)', node1.mf, node2.mf))\n",
    "    print('{:18} {:13.4f} {:14.4f}'.format('Diameter (m)', node1.d, node2.d))\n",
    "    print('{:18} {:13.4f} {:14.4f}'.format('Velocity (m/s)', node1.v, node2.v))\n",
    "    print('{:14} {:16.1f}'.format('Reynolds Number', node1.reynolds))\n",
    "    #print('{:18} {:13.1f} {:14.1f}'.format('Reynolds Number', node1.reynolds, node2.reynolds))\n",
    "    print('{:18} {:13.4f} {:14.4f}'.format('Enthalpy (kJ/kg)', node1.h, node2.h))\n",
    "    print('{:18} {:13.4f} {:14.4f}'.format('SpecificExergy', node1.sp_exergy, node2.sp_exergy))\n",
    "    print('{:18} {:13.4f} {:14.4f}'.format('Exergy (kW)', node1.exergy, node2.exergy))\n",
    "    print('{:18} {:13.4f} {:14.4f}'.format('SiO2', node1.sio2, node2.sio2))\n",
    "    print('{:18} {:13.4f} {:14.4f}'.format('CO2', node1.co2, node2.co2))\n",
    "    print('{:18} {:13.4f} {:14.4f}'.format('H2S', node1.h2s, node2.h2s))\n",
    "\n",
    "    if pipe.ID[0:3] == 'STL':\n",
    "        print('{:18} {:13.4} {:14.4}'.format('NCG', node1.ncg, node2.ncg))\n",
    "    else:\n",
    "        print('{:18} {:13.4} {:14.4}'.format('SSI', node1.ssi, node2.ssi))\n",
    "    \n",
    "    #pipeline\n",
    "    print('\\n{}'.format('Pipeline Section'))\n",
    "    print('{:18} {:13.4f}'.format('Length', pipe.length))\n",
    "    print('{:18} {:13.4f}'.format('Total F_Loss', pipe.f_tot))\n",
    "    print('{:18} {:13.4f}'.format('  Skin Friction', pipe.f_skin))\n",
    "    print('{:18} {:13.4f}'.format('  Fittings Loss', pipe.f_fit))\n",
    "    print('{:18} {:13.4f}'.format('  Expansion', pipe.f_exp))\n",
    "    print('{:18} {:13.4f}'.format('  Contraction', pipe.f_con))\n",
    "    print('{:18} {:13.4f}'.format('Heat Loss (J/kg)', pipe.Q))\n",
    "    print('{:18} {:13.4f}'.format('gdz', pipe.gdz))\n",
    "    print('{:18} {:13.4f}'.format('udu', pipe.udu))\n",
    "    print('{:18} {:13.4f}'.format('Total Loss', pipe.t_loss))\n",
    "    print('\\n')"
   ]
  }
 ],
 "metadata": {
  "kernelspec": {
   "display_name": "Python 3",
   "language": "python",
   "name": "python3"
  },
  "language_info": {
   "codemirror_mode": {
    "name": "ipython",
    "version": 3
   },
   "file_extension": ".py",
   "mimetype": "text/x-python",
   "name": "python",
   "nbconvert_exporter": "python",
   "pygments_lexer": "ipython3",
   "version": "3.5.2"
  },
  "latex_envs": {
   "bibliofile": "biblio.bib",
   "cite_by": "apalike",
   "current_citInitial": 1,
   "eqLabelWithNumbers": true,
   "eqNumInitial": 0
  }
 },
 "nbformat": 4,
 "nbformat_minor": 0
}
