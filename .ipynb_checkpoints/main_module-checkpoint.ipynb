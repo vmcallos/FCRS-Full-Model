{
 "cells": [
  {
   "cell_type": "code",
   "execution_count": 152,
   "metadata": {
    "collapsed": false
   },
   "outputs": [],
   "source": [
    "import pandas as pd\n",
    "import math\n",
    "from iapws import IAPWS97\n",
    "import sys"
   ]
  },
  {
   "cell_type": "code",
   "execution_count": 153,
   "metadata": {
    "collapsed": true
   },
   "outputs": [],
   "source": [
    "%run class_module_optimization.ipynb\n",
    "%run equations_v2.ipynb\n",
    "%run eq_two_phase.ipynb\n",
    "sys.stdout = open(\"simul_log.txt\", \"w\")"
   ]
  },
  {
   "cell_type": "markdown",
   "metadata": {},
   "source": [
    "# Read Input Data from Excel"
   ]
  },
  {
   "cell_type": "code",
   "execution_count": 154,
   "metadata": {
    "collapsed": false
   },
   "outputs": [],
   "source": [
    "#import data frame for pipe network;\n",
    "net_df = pd.read_excel('fcrs_in.xls', sheetname = 'network')#2\n",
    "#import data frame for NODE attributes\n",
    "node_df = pd.read_excel('fcrs_in.xls', sheetname= 'nodes')#0\n",
    "#import dataframe for RI pipeline attributes\n",
    "pipe_df = pd.read_excel('fcrs_in.xls', sheetname= 'pipes')#1"
   ]
  },
  {
   "cell_type": "markdown",
   "metadata": {},
   "source": [
    "# Create Pipeline Network Graph; Node and Pipe Dictionaries"
   ]
  },
  {
   "cell_type": "code",
   "execution_count": 155,
   "metadata": {
    "collapsed": false
   },
   "outputs": [],
   "source": [
    "network_graph = {}\n",
    "node_dict = {}\n",
    "pipe_dict = {}\n",
    "#Create a graph from nodes; in dictionary format\n",
    "for nodes in range (len(net_df.index)):\n",
    "    nodeID, inlet, outlet, pflow = map(lambda x: net_df.iloc[nodes, x], range(0,4))\n",
    "    #print(nodeID, inlet, outlet, pflow)\n",
    "    network_graph[nodeID] = [inlet, outlet, pflow]\n",
    "\n",
    "for nodes in range(len(node_df.index)):\n",
    "    #create a node class for each row and store it in a dictionary\n",
    "    nodeID,b,c,d,e,f,g,h,i,j,k,l,m,n = map(lambda x: node_df.iloc[nodes, x], range(0,14))\n",
    "    node_dict[nodeID] = node_class(nodeID,b,c,d,e,f,g,h,i,j,k,l,m,n)\n",
    "\n",
    "for pipelines in range(len(pipe_df.index)):\n",
    "    #create a pipeline class for each row and store it in a dictionary\n",
    "    lineID,b,c,d,e,f,g,h,i,j,k,l,m,n  = map(lambda x: pipe_df.iloc[pipelines, x], range(0,14))\n",
    "    #print(lineID,b,c,d,e,f,g,h,i,j,k,l,m,n)\n",
    "    pipe_dict[lineID] = pipe_class(lineID,b,c,d,e,f,g,h,i,j,k,l,m,n)\n",
    "\n",
    "#print(network_graph)\n",
    "#print(pipe_dict)"
   ]
  },
  {
   "cell_type": "code",
   "execution_count": 156,
   "metadata": {
    "collapsed": false
   },
   "outputs": [],
   "source": [
    "#Calculate SF and WF after separator vessel\n",
    "sv_out = two_phase()\n",
    "\n",
    "#for sv in sorted(sv_out):\n",
    "#    print(sv, sv_out[sv])\n",
    "#sv_link = {'sv7000':['R7000', 'S7000']}\n",
    "sv_link = {'sv3012':['R501', 'S5001'], 'sv3034':['R502', 'S5002'], 'sv3056':['R503', 'S5003'], \\\n",
    "          'sv4012':['R504', 'S5004'], 'sv4034':['R505', 'S5005'], 'sv4050':['R506', 'S5006'], \\\n",
    "          'sv5080':['R508', 'S5008']}\n",
    "#for sv in sorted(sv_link):\n",
    "#    print (node_dict[sv_link[sv][1]].p)#, sv_out[sv][0])\n",
    "\n",
    "for sv in sorted(sv_link):\n",
    "    node_dict[sv_link[sv][0]].p = sv_out[sv][0]\n",
    "    node_dict[sv_link[sv][0]].mf = sv_out[sv][2]\n",
    "    node_dict[sv_link[sv][0]].sio2 = sv_out[sv][3]\n",
    "    node_dict[sv_link[sv][1]].p = sv_out[sv][0]\n",
    "    node_dict[sv_link[sv][1]].mf = sv_out[sv][1]\n",
    "    node_dict[sv_link[sv][1]].co2 = sv_out[sv][4]\n",
    "    node_dict[sv_link[sv][1]].h2s = sv_out[sv][5]\n",
    "    steam = IAPWS97 (P = sv_out[sv][0], x=1)\n",
    "    node_dict[sv_link[sv][0]].t = steam.T-273.15\n",
    "    node_dict[sv_link[sv][1]].t = steam.T-273.15\n",
    "    node_dict[sv_link[sv][0]].calc_ssi()\n",
    "    node_dict[sv_link[sv][1]].calc_ncg()\n",
    "    node_dict[sv_link[sv][1]].ssi = 0\n",
    "    node_dict[sv_link[sv][0]].ncg = 0\n",
    "    #print (steam.T-273.15)\n",
    "    #print (node_dict[sv_link[sv][1]].t, node_dict[sv_link[sv][0]].ssi, \\\n",
    "    #       node_dict[sv_link[sv][1]].mf, node_dict[sv_link[sv][1]].co2)\n",
    "    \n",
    "#print (node_dict['S7000'].co2)\n",
    "#node_dict['R501'].calc_ssi()\n",
    "#print (node_dict['R501'].ssi)"
   ]
  },
  {
   "cell_type": "code",
   "execution_count": 157,
   "metadata": {
    "collapsed": false,
    "scrolled": false
   },
   "outputs": [],
   "source": [
    "'''Create instance of Kf for fittings and insulation params'''\n",
    "kf_list = kf()\n",
    "insul = insulation()\n",
    "\n",
    "\n",
    "for x in sorted(network_graph):\n",
    "    ''' x is the network graph key which is also the pipeID\n",
    "    pipe_dict[x] -> pipeline\n",
    "    network_graph[x][0] -> Inlet Node\n",
    "    network_graph[x][1] -> Outlet Node\n",
    "    '''\n",
    "    '''Calculate Steam T_sat, Rho and Mu from steam table'''\n",
    "    #print(pipe_dict[x], network_graph[x][2])\n",
    "    calc_dp(network_graph[x][0], network_graph[x][1], x, network_graph[x][2])\n",
    "\n",
    "#for node in sorted(node_dict):\n",
    "#    print(node_dict[node].ID, node_dict[node].exergy, node_dict[node].mf, node_dict[node].p)\n",
    "#\n",
    "#for pipe in sorted(pipe_dict):\n",
    "#    print(pipe_dict[pipe].ID, pipe_dict[pipe].Q, pipe_dict[pipe].f_tot, pipe_dict[pipe].f_skin, pipe_dict[pipe].f_fit,\\\n",
    "#         pipe_dict[pipe].udu, pipe_dict[pipe].gdz)\n",
    "#for node in sorted(node_dict):\n",
    "#    print(node_dict[node].ID,node_dict[node].X, node_dict[node].Y, node_dict[node].mf, \\\n",
    "#          node_dict[node].co2, node_dict[node].h2s, node_dict[node].t, \\\n",
    "#          node_dict[node].ssi)\n",
    "\n",
    "print(\"run OK\")\n",
    "\n",
    "#print(node_dict[node].ID, node_dict[node].name, node_dict[node].X, node_dict[node].Y, round(node_dict[node].p,2), \\\n",
    "#           round(node_dict[node].t,2), \\\n",
    "#           round(node_dict[node].mf,3), node_dict[node].co2, node_dict[node].h2s, node_dict[node].sio2,\\\n",
    "#           round(node_dict[node].ncg,4), node_dict[node].ssi, round(node_dict[node].mf/2.4,2))\n",
    "\n",
    "\n"
   ]
  },
  {
   "cell_type": "markdown",
   "metadata": {},
   "source": [
    "## Export Nodes Summary in csv"
   ]
  },
  {
   "cell_type": "code",
   "execution_count": 158,
   "metadata": {
    "collapsed": false
   },
   "outputs": [],
   "source": [
    "table = []\n",
    "head = ['nodeID', 'nodeName', 'X', 'Y', 'Pressure', 'Temperature', 'Mass Flow', 'CO2', 'H2S', 'SiO2', 'NCG', 'SSI', 'MWe']\n",
    "\n",
    "for node in sorted(node_dict):\n",
    "    temp = [node_dict[node].ID, node_dict[node].name, node_dict[node].X, node_dict[node].Y, round(node_dict[node].p,2), \\\n",
    "           round(node_dict[node].t,2), \\\n",
    "           round(node_dict[node].mf,3), node_dict[node].co2, node_dict[node].h2s, node_dict[node].sio2,\\\n",
    "           round(node_dict[node].ncg,4), node_dict[node].ssi, round(node_dict[node].mf/2.4,2)]\n",
    "    table.append(temp)\n",
    "\n",
    "df_out = pd.DataFrame(table, columns=head)\n",
    "\n",
    "df_out.to_csv('cn_nodes.csv')"
   ]
  },
  {
   "cell_type": "markdown",
   "metadata": {},
   "source": [
    "## Export Pipes Summary in csv"
   ]
  },
  {
   "cell_type": "code",
   "execution_count": 159,
   "metadata": {
    "collapsed": false
   },
   "outputs": [],
   "source": [
    "pipelines = []\n",
    "head = ['pipeID', 'length', 'total_loss', 'skin_friction', 'fittings_friction', 'heat_loss', 'X', 'Y']\n",
    "\n",
    "for pipe in sorted(pipe_dict):\n",
    "    temp = [ pipe_dict[pipe].ID, pipe_dict[pipe].length, round(pipe_dict[pipe].t_loss,0), pipe_dict[pipe].f_skin, \\\n",
    "            pipe_dict[pipe].f_fit, -pipe_dict[pipe].Q,  pipe_dict[pipe].X, pipe_dict[pipe].Y,]\n",
    "    pipelines.append(temp)\n",
    "\n",
    "df = pd.DataFrame(pipelines, columns=head)\n",
    "\n",
    "df['tot'] = df['skin_friction'] + df['fittings_friction'] + df['heat_loss']\n",
    "df['pskin_friction'] = round(df['skin_friction']/df['tot']*100,0)\n",
    "df['pfittings_friction'] = round(df['fittings_friction']/df['tot']*100,0)\n",
    "df['pheat_loss'] = round(df['heat_loss']/df['tot']*100,0)\n",
    "\n",
    "df.to_csv('cn_pipes.csv')"
   ]
  },
  {
   "cell_type": "code",
   "execution_count": 160,
   "metadata": {
    "collapsed": true
   },
   "outputs": [],
   "source": [
    "def iter2_5(node_in, node_out, pipe, dpi):\n",
    "    #(2) calc P, T, hf and hg of node_out\n",
    "    node_out.p = node_in.p + dpi\n",
    "    steam_out = IAPWS97(P = node_out.p, x=1)\n",
    "    node_out.hg =steam_out.h #sat'd steam enthalpy\n",
    "    node_out.t = steam_out.T\n",
    "    steam_out = IAPWS97(P = node_out.p, x=0)\n",
    "    node_out.hf = steam_out.h #sat'd liq enthalpy\n",
    "\n",
    "    print('Initial parameters; Node_out: P=%f, MF=%f, T=%f, v=%f, rho=%f'%\\\n",
    "          (node_out.p, node_out.mf, node_out.t, node_out.v, node_out.rho))\n",
    "    \n",
    "    #(3) calc X and node_out.mf\n",
    "    #calc Q\n",
    "    pipe.q_loss(node_in, insul)\n",
    "    #pipe.Q = pipe.Q*1e-3  #convert to kJoules\n",
    "    H = node_in.h + pipe.Q*1e-3\n",
    "    X = (H - node_out.hf)/(node_out.hg - node_out.hf)\n",
    "    node_out.mf = node_in.mf*X\n",
    "    print('calc X and node_out.mf', pipe.Q, node_in.mf, node_out.mf)\n",
    "    \n",
    "    #(4) recalculate v, udu, f_tot\n",
    "    node_out.steam_p() #calculate steam parameters\n",
    "    print('node_out', node_out.rho)\n",
    "    node_out.calc_area() #calculate area\n",
    "    node_out.calc_velocity(node_out) #recalculate velocity @ new mf\n",
    "    node_out.nRE() #recalculate nRE @ new v \n",
    "    print('New velocity = %f MF = %f'%(node_out.v, node_out.mf))\n",
    "    \n",
    "    pipe.ff_fanning(node_out.reynolds)\n",
    "    pipe.skin_friction(node_out.v, node_out.d)\n",
    "    \n",
    "    if node_in.area == node_out.area:\n",
    "        pipe.f_exp = 0\n",
    "        pipe.f_con = 0\n",
    "    \n",
    "    if node_in.area < node_out.area:\n",
    "        pipe.f_con = 0\n",
    "        pipe.f_expansion(node_in.area, node_out.area, node_in.v)\n",
    "    \n",
    "    else:\n",
    "        pipe.f_exp = 0\n",
    "        pipe.f_contraction(node_in.area, node_out.area, node_in.v)\n",
    "    \n",
    "    pipe.f_fittings(kf_list, node_in.v)\n",
    "    pipe.f_total()\n",
    "\n",
    "    pipe.f_gdz(node_in.z, node_out.z)\n",
    "    pipe.f_udu(node_in.v, node_out.v)\n",
    "    \n",
    "    pipe.total_loss()\n",
    "    \n",
    "    p2 = node_in.p + (pipe.udu + pipe.gdz - pipe.f_tot) * node_out.rho * 1e-6\n",
    "    dpf = p2 - node_in.p\n",
    "    #dpf = (pipe.udu + pipe.gdz - pipe.f_tot) * node_in.rho * 1e-6\n",
    "    \n",
    "    #print(pipe.f_skin, node_out.v, node_out.mf, node_out.rho, node_out.area)\n",
    "    #print(pipe.f_tot, pipe.t_loss, pipe.Q, p2)\n",
    "    #print(abs(dpi), abs(dpf))\n",
    "    print('Final pipe; f_tot=%f, f_skin=%f, f_fit=%f, udu=%f'%(pipe.f_tot, pipe.f_skin, pipe.f_fit, pipe.udu))\n",
    "    print('Initial parameters; Node_out: P=%f, MF=%f, T=%f, v=%f, rho=%f'%\\\n",
    "          (node_out.p, node_out.mf, node_out.t, node_out.v, node_out.rho))\n",
    "    return [p2, dpf, dpi-dpf]"
   ]
  },
  {
   "cell_type": "code",
   "execution_count": 161,
   "metadata": {
    "collapsed": false
   },
   "outputs": [],
   "source": [
    "def iter_p2(node_in, node_out, pipe):\n",
    "    #print(pipe.f_skin, node_out.v, node_out.mf, node_out.rho, node_out.area, node_out.p)\n",
    "    #print(node_in.mf, node_in.rho, node_in.area, node_in.mf/ node_in.rho/ node_in.area)\n",
    "    #print(node_in.p, node_out.p, node_out.mf, node_out.rho)\n",
    "    #print(pipe.f_tot, pipe.t_loss)\n",
    "    print('Initial parameters; Node_in: P=%f, MF=%f, T=%f, v=%f'%(node_in.p, node_in.mf, node_in.t, node_in.v))\n",
    "    print('Initial parameters; Node_out: P=%f, MF=%f, T=%f, v=%f, rho=%f'%\\\n",
    "          (node_out.p, node_out.mf, node_out.t, node_out.v, node_out.rho))\n",
    "    print('Initial pipe; f_tot=%f, f_skin=%f, f_fit=%f, udu=%f'%(pipe.f_tot, pipe.f_skin, pipe.f_fit, pipe.udu))\n",
    "    #(1) assume or cacl dPi\n",
    "    #dpi = (pipe.udu + pipe.gdz - pipe.f_tot) * node_in.rho * 1e-6\n",
    "    #dpi = abs(dpi)\n",
    "    dpi = 0.001\n",
    "    \n",
    "    print (dpi, node_in.p, node_in.p + dpi, node_out.p)\n",
    "    \n",
    "    dpf = iter2_5(node_in, node_out, pipe, dpi)\n",
    "    delta = dpf[2]\n",
    "    \n",
    "    c = 0\n",
    "    while delta > 0.0001:\n",
    "        c+=1\n",
    "        \n",
    "        dpf = iter2_5(node_in, node_out, pipe, dpi)\n",
    "        dpi = dpf[1]\n",
    "        delta = dpf[2]\n",
    "        print('\\n\\n Iter %d: delta = %f'%(c,delta))\n",
    "        if c > 100:\n",
    "            break\n",
    "    \n",
    "    print ('dp', dpi, dpf)"
   ]
  },
  {
   "cell_type": "code",
   "execution_count": 162,
   "metadata": {
    "collapsed": false
   },
   "outputs": [],
   "source": [
    "iter_p2(node_dict['S70C1'], node_dict['S70IF1'], pipe_dict['STL70IF1'])"
   ]
  },
  {
   "cell_type": "code",
   "execution_count": 163,
   "metadata": {
    "collapsed": false
   },
   "outputs": [],
   "source": [
    "print(46.6462543152/3.37268568074/0.456036731188)\n",
    "print(47.125358/3.37268568074/0.456036731188)\n",
    "#old velocity: 47.3956724185 3.66617301556 0.456036731188 @ 2000\n",
    "\n",
    "#new velocity: 46.6462543152 3.37268568074 0.456036731188 0.64091899247  @ 2000\n",
    "#new velocity: 46.8376844046 3.42773732131 0.456036731188 0.651986299973 @ 1500\n",
    "#new velocity: 47.0298647376 3.48275347491 0.456036731188 0.663053607476 @ 1000\n",
    "\n",
    "print(46.6462543152/ 3.37268568074/ 0.456036731188)\n",
    "print(46.8376844046 /3.42773732131/ 0.456036731188)\n",
    "print(47.0298647376/ 3.48275347491/ 0.456036731188)\n",
    "\n",
    "print(12)"
   ]
  }
 ],
 "metadata": {
  "kernelspec": {
   "display_name": "Python 3",
   "language": "python",
   "name": "python3"
  },
  "language_info": {
   "codemirror_mode": {
    "name": "ipython",
    "version": 3
   },
   "file_extension": ".py",
   "mimetype": "text/x-python",
   "name": "python",
   "nbconvert_exporter": "python",
   "pygments_lexer": "ipython3",
   "version": "3.5.2"
  },
  "latex_envs": {
   "bibliofile": "biblio.bib",
   "cite_by": "apalike",
   "current_citInitial": 1,
   "eqLabelWithNumbers": true,
   "eqNumInitial": 0
  }
 },
 "nbformat": 4,
 "nbformat_minor": 0
}
