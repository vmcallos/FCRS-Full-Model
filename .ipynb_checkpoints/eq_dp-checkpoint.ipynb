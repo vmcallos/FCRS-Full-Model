{
 "cells": [
  {
   "cell_type": "code",
   "execution_count": 1,
   "metadata": {
    "collapsed": true
   },
   "outputs": [],
   "source": [
    "import math\n",
    "from iapws import IAPWS97"
   ]
  },
  {
   "cell_type": "code",
   "execution_count": null,
   "metadata": {
    "collapsed": true
   },
   "outputs": [],
   "source": [
    "def calc_thermo(node):\n",
    "    '''Calculate Steam T_sat, Rho and Mu from steam table'''\n",
    "    if pipe_dict[pipeline].is_stl():\n",
    "        node_dict[node_in].steam_p()\n",
    "    else:\n",
    "        node_dict[node_in].brine_t()\n",
    "        \n",
    "    print(pipeline, pipe_dict[pipeline].is_stl(), p_f)\n",
    "    \n",
    "    '''Calculate area and velocity of inlet node; Only area for outlet node'''\n",
    "    node_dict[node_in].calc_area()\n",
    "    node_dict[node_in].calc_velocity(node_dict[node_in])\n",
    "    node_dict[node_out].calc_area()\n",
    "    #node_dict[node_out].calc_velocity(node_dict[node_in])\n",
    "    #print('{} = {:.4f}'.format(node_dict[node_in].ID, node_dict[node_in].v))\n",
    "    \n",
    "    '''Calculate Reynolds Number at the inlet node'''\n",
    "    node_dict[node_in].nRE()\n",
    "    #print('{:.0f}'.format(node_dict[node_in].reynolds))"
   ]
  },
  {
   "cell_type": "code",
   "execution_count": null,
   "metadata": {
    "collapsed": true
   },
   "outputs": [],
   "source": [
    "def calc_dp():\n",
    "    '''Calculate Relative Roughness of the pipeline'''\n",
    "    pipe_dict[pipeline].rel_roughness(node_dict[node_in].d)\n",
    "    \n",
    "    '''Calculate friction factor of the pipe'''\n",
    "    if node_dict[node_in].reynolds > 0: \n",
    "        pipe_dict[pipeline].ff_fanning(node_dict[node_in].reynolds)\n",
    "        #print('{}'.format(pipe_dict[pipeline].ff))\n",
    "    else:\n",
    "        pass\n",
    "    \n",
    "    "
   ]
  },
  {
   "cell_type": "code",
   "execution_count": null,
   "metadata": {
    "collapsed": true
   },
   "outputs": [],
   "source": [
    "def iter2_5(node_in, node_out, pipe, dpi):\n",
    "    \n",
    "    #(1) Assume pressure drop\n",
    "    dpi = 0.001\n",
    "    \n",
    "    #(2) calc P, T, hf and hg of node_out\n",
    "    node_out.p = node_in.p + dpi\n",
    "    steam_out = IAPWS97(P = node_out.p, x=1)\n",
    "    node_out.hg =steam_out.h #sat'd steam enthalpy\n",
    "    node_out.t = steam_out.T\n",
    "    steam_out = IAPWS97(P = node_out.p, x=0)\n",
    "    node_out.hf = steam_out.h #sat'd liq enthalpy\n",
    "    \n",
    "    #(3) calc X and node_out.mf\n",
    "    #calc Q\n",
    "    pipe.q_loss(node_in, insul)\n",
    "    #pipe.Q = pipe.Q*1e-3  #convert to kJoules\n",
    "    H = node_in.h + pipe.Q*1e-3\n",
    "    X = (H - node_out.hf)/(node_out.hg - node_out.hf)\n",
    "    node_out.mf = node_in.mf*X\n",
    "    print('calc X and node_out.mf', pipe.Q, node_in.mf, node_out.mf)\n",
    "    \n",
    "    #(4) recalculate v, udu, f_tot\n",
    "    node_out.steam_p() #calculate steam parameters\n",
    "    print('node_out', node_out.rho)\n",
    "    node_out.calc_area() #calculate area\n",
    "    node_out.calc_velocity(node_out) #recalculate velocity @ new mf\n",
    "    node_out.nRE() #recalculate nRE @ new v \n",
    "    print('New velocity = %f MF = %f'%(node_out.v, node_out.mf))\n",
    "    \n",
    "    pipe.ff_fanning(node_out.reynolds)\n",
    "    pipe.skin_friction(node_out.v, node_out.d)\n",
    "    \n",
    "    if node_in.area == node_out.area:\n",
    "        pipe.f_exp = 0\n",
    "        pipe.f_con = 0\n",
    "    \n",
    "    if node_in.area < node_out.area:\n",
    "        pipe.f_con = 0\n",
    "        pipe.f_expansion(node_in.area, node_out.area, node_in.v)\n",
    "    \n",
    "    else:\n",
    "        pipe.f_exp = 0\n",
    "        pipe.f_contraction(node_in.area, node_out.area, node_in.v)\n",
    "    \n",
    "    pipe.f_fittings(kf_list, node_in.v)\n",
    "    pipe.f_total()\n",
    "\n",
    "    pipe.f_gdz(node_in.z, node_out.z)\n",
    "    pipe.f_udu(node_in.v, node_out.v)\n",
    "    \n",
    "    pipe.total_loss()\n",
    "    \n",
    "    p2 = node_in.p + (pipe.udu + pipe.gdz - pipe.f_tot) * node_out.rho * 1e-6\n",
    "    dpf = p2 - node_in.p\n",
    "    #dpf = (pipe.udu + pipe.gdz - pipe.f_tot) * node_in.rho * 1e-6\n",
    "    \n",
    "    #print(pipe.f_skin, node_out.v, node_out.mf, node_out.rho, node_out.area)\n",
    "    #print(pipe.f_tot, pipe.t_loss, pipe.Q, p2)\n",
    "    #print(abs(dpi), abs(dpf))\n",
    "    print('Final pipe; f_tot=%f, f_skin=%f, f_fit=%f, udu=%f'%(pipe.f_tot, pipe.f_skin, pipe.f_fit, pipe.udu))\n",
    "    print('Initial parameters; Node_out: P=%f, MF=%f, T=%f, v=%f, rho=%f'%\\\n",
    "          (node_out.p, node_out.mf, node_out.t, node_out.v, node_out.rho))\n",
    "    return [p2, dpf, dpi-dpf]"
   ]
  }
 ],
 "metadata": {
  "kernelspec": {
   "display_name": "Python 3",
   "language": "python",
   "name": "python3"
  },
  "language_info": {
   "codemirror_mode": {
    "name": "ipython",
    "version": 3
   },
   "file_extension": ".py",
   "mimetype": "text/x-python",
   "name": "python",
   "nbconvert_exporter": "python",
   "pygments_lexer": "ipython3",
   "version": "3.5.2"
  },
  "latex_envs": {
   "bibliofile": "biblio.bib",
   "cite_by": "apalike",
   "current_citInitial": 1,
   "eqLabelWithNumbers": true,
   "eqNumInitial": 0
  }
 },
 "nbformat": 4,
 "nbformat_minor": 0
}
