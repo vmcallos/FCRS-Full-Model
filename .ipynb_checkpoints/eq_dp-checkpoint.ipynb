{
 "cells": [
  {
   "cell_type": "code",
   "execution_count": 1,
   "metadata": {
    "collapsed": true
   },
   "outputs": [],
   "source": [
    "import math\n",
    "from iapws import IAPWS97"
   ]
  },
  {
   "cell_type": "code",
   "execution_count": null,
   "metadata": {
    "collapsed": true
   },
   "outputs": [],
   "source": [
    "def iter_dp(inlet, outlet, pipe, pf):\n",
    "    old_p = outlet. p\n",
    "    old_mf = outlet.mf\n",
    "    \n",
    "    \n",
    "    # Assume initial delta_P\n",
    "    dpi = 0.001\n",
    "    # Calculate outler parameters given delta_P\n",
    "    outlet.p = inlet.p - dpi\n",
    "    insul = insulation()\n",
    "    kf_list = kf()\n",
    "    print('\\n Step 1 ', outlet.p)\n",
    "    \n",
    "    dp = 1\n",
    "    c = 0\n",
    "    while dp > 0.0001:\n",
    "        c += 1 #set counter to avoid infinite loop\n",
    "        \n",
    "        dpi = inlet.p - outlet.p\n",
    "        \n",
    "        # (2) Calculate outlet thermodynamic properties using estimated p_out\n",
    "        outlet.steam_p()   \n",
    "        outlet.calc_velocity()\n",
    "        \n",
    "        # (3) calculate Q, X, MF_out\n",
    "        pipe.q_loss(inlet, insul)\n",
    "        outlet.calc_mf_iter(inlet, pipe, pf)\n",
    "        \n",
    "        # (4) Re-Calculate outlet thermodynamic properties using calculated p_out\n",
    "        outlet.steam_p()   \n",
    "        outlet.calc_velocity()\n",
    "        outlet.nRE()\n",
    "        print('\\n Step 4 ', outlet.p, outlet.v, outlet.rho)\n",
    "        pipe.ff_fanning(outlet.reynolds)\n",
    "        pipe.skin_friction(outlet)\n",
    "        \n",
    "        if inlet.area == outlet.area:\n",
    "            pipe.f_exp = 0\n",
    "            pipe.f_con = 0\n",
    "    \n",
    "        elif inlet.area < outlet.area:\n",
    "            pipe.f_con = 0\n",
    "            pipe.f_expansion(inlet, outlet)\n",
    "        \n",
    "        else:\n",
    "            pipe.f_exp = 0\n",
    "            pipe.f_contraction(inlet, outlet)\n",
    "            \n",
    "        pipe.f_fittings(kf_list, inlet.v)\n",
    "        pipe.f_total()\n",
    "    \n",
    "        pipe.f_gdz(inlet.z, outlet.z)\n",
    "        pipe.f_udu(inlet.v, outlet.v)\n",
    "        \n",
    "        pipe.total_loss()\n",
    "        \n",
    "        p2 = inlet.p + (pipe.udu + pipe.gdz - pipe.f_tot) * outlet.rho * 1e-6\n",
    "        dpf = inlet.p - p2\n",
    "        \n",
    "        dp = dpf - dpi\n",
    "        \n",
    "        outlet.p = p2\n",
    "        if c > 10:\n",
    "            break\n",
    "    \n",
    "    if old_p == 0:\n",
    "        steam_out = IAPWS97(P=outlet.p, x=1)\n",
    "        outlet.t = steam_out.T - 273.15\n",
    "        outlet.h = steam_out.h\n",
    "    else:\n",
    "        tmf = (outlet.mf ) + old_mf\n",
    "        new_p = ((old_mf * old_p)+(outlet.p * outlet.mf))/tmf\n",
    "        outlet.p = new_p\n",
    "        steam_out = IAPWS97(P=outlet.p, x=1)\n",
    "        outlet.t = steam_out.T - 273.15\n",
    "        outlet.h = steam_out.h\n",
    "        outlet.mf = tmf"
   ]
  }
 ],
 "metadata": {
  "kernelspec": {
   "display_name": "Python 3",
   "language": "python",
   "name": "python3"
  },
  "language_info": {
   "codemirror_mode": {
    "name": "ipython",
    "version": 3
   },
   "file_extension": ".py",
   "mimetype": "text/x-python",
   "name": "python",
   "nbconvert_exporter": "python",
   "pygments_lexer": "ipython3",
   "version": "3.5.2"
  },
  "latex_envs": {
   "bibliofile": "biblio.bib",
   "cite_by": "apalike",
   "current_citInitial": 1,
   "eqLabelWithNumbers": true,
   "eqNumInitial": 0
  }
 },
 "nbformat": 4,
 "nbformat_minor": 0
}
